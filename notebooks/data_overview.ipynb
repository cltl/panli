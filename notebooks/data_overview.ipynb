{
 "cells": [
  {
   "cell_type": "code",
   "execution_count": 1,
   "id": "f20e7669-39d3-46dc-9823-6c24491b0681",
   "metadata": {},
   "outputs": [],
   "source": [
    "import pandas as pd"
   ]
  },
  {
   "cell_type": "markdown",
   "id": "1b8913b5-744e-4437-994a-52d555e53267",
   "metadata": {},
   "source": [
    "# Perspective Aware NLI (PANLI) dataset"
   ]
  },
  {
   "cell_type": "code",
   "execution_count": 2,
   "id": "a1b01041-4c46-4a17-b25d-e70e45158e46",
   "metadata": {},
   "outputs": [
    {
     "data": {
      "text/html": [
       "<div>\n",
       "<style scoped>\n",
       "    .dataframe tbody tr th:only-of-type {\n",
       "        vertical-align: middle;\n",
       "    }\n",
       "\n",
       "    .dataframe tbody tr th {\n",
       "        vertical-align: top;\n",
       "    }\n",
       "\n",
       "    .dataframe thead th {\n",
       "        text-align: right;\n",
       "    }\n",
       "</style>\n",
       "<table border=\"1\" class=\"dataframe\">\n",
       "  <thead>\n",
       "    <tr style=\"text-align: right;\">\n",
       "      <th></th>\n",
       "      <th>unit_id</th>\n",
       "      <th>pair_id</th>\n",
       "      <th>premise</th>\n",
       "      <th>hypothesis</th>\n",
       "      <th>statement</th>\n",
       "      <th>source_text</th>\n",
       "      <th>source_type</th>\n",
       "      <th>additional_sources</th>\n",
       "      <th>relation</th>\n",
       "      <th>label</th>\n",
       "      <th>original_label</th>\n",
       "      <th>uas</th>\n",
       "      <th>uqs</th>\n",
       "      <th>labels</th>\n",
       "      <th>scores</th>\n",
       "      <th>original_labels</th>\n",
       "      <th>original_scores</th>\n",
       "      <th>premise_sent_id</th>\n",
       "      <th>hypothesis_sent_ids</th>\n",
       "    </tr>\n",
       "  </thead>\n",
       "  <tbody>\n",
       "    <tr>\n",
       "      <th>0</th>\n",
       "      <td>24644_source0</td>\n",
       "      <td>4173</td>\n",
       "      <td>While in some cases there has been no definiti...</td>\n",
       "      <td>the author believes that you are/were delaying...</td>\n",
       "      <td>you are/were delaying vaccination</td>\n",
       "      <td>the author</td>\n",
       "      <td>author</td>\n",
       "      <td>True</td>\n",
       "      <td>inter-sentence</td>\n",
       "      <td>neutral</td>\n",
       "      <td>uncertain</td>\n",
       "      <td>0.603905</td>\n",
       "      <td>0.315623</td>\n",
       "      <td>neutral,entailment,contradiction</td>\n",
       "      <td>0.6039,0.3764,0.0197</td>\n",
       "      <td>uncertain,agree,partially_agree,disagree</td>\n",
       "      <td>0.4922,0.3764,0.1117,0.0197</td>\n",
       "      <td>Whattoexpect_20161206T224915_44</td>\n",
       "      <td>Fox-News_20161029T114432_73</td>\n",
       "    </tr>\n",
       "    <tr>\n",
       "      <th>1</th>\n",
       "      <td>24644_source1</td>\n",
       "      <td>4173</td>\n",
       "      <td>While in some cases there has been no definiti...</td>\n",
       "      <td>doctors believe that you are/were delaying vac...</td>\n",
       "      <td>you are/were delaying vaccination</td>\n",
       "      <td>doctors</td>\n",
       "      <td>additional_source</td>\n",
       "      <td>True</td>\n",
       "      <td>inter-sentence</td>\n",
       "      <td>entailment</td>\n",
       "      <td>agree</td>\n",
       "      <td>0.607952</td>\n",
       "      <td>0.372631</td>\n",
       "      <td>entailment,neutral,contradiction</td>\n",
       "      <td>0.608,0.3723,0.0197</td>\n",
       "      <td>agree,uncertain,partially_agree,disagree</td>\n",
       "      <td>0.608,0.2482,0.1241,0.0197</td>\n",
       "      <td>Whattoexpect_20161206T224915_44</td>\n",
       "      <td>Fox-News_20161029T114432_73</td>\n",
       "    </tr>\n",
       "    <tr>\n",
       "      <th>2</th>\n",
       "      <td>24645_source0</td>\n",
       "      <td>3780</td>\n",
       "      <td>The MMR vaccine is given as two injections .</td>\n",
       "      <td>the author believes that the vaccines are give...</td>\n",
       "      <td>the vaccines are given as two doses</td>\n",
       "      <td>the author</td>\n",
       "      <td>author</td>\n",
       "      <td>False</td>\n",
       "      <td>inter-sentence</td>\n",
       "      <td>entailment</td>\n",
       "      <td>agree</td>\n",
       "      <td>0.858770</td>\n",
       "      <td>0.724804</td>\n",
       "      <td>entailment,neutral,contradiction</td>\n",
       "      <td>0.8588,0.1412,0.0</td>\n",
       "      <td>agree,partially_agree,disagree,uncertain</td>\n",
       "      <td>0.8588,0.1412,0.0,0.0</td>\n",
       "      <td>nhs-uk_20161127T090556_44</td>\n",
       "      <td>en-wikipedia-org_20170519T045515_72</td>\n",
       "    </tr>\n",
       "    <tr>\n",
       "      <th>3</th>\n",
       "      <td>24646_source0</td>\n",
       "      <td>2712</td>\n",
       "      <td>Prophylactic vaccines are potent activators of...</td>\n",
       "      <td>the author believes that most vaccines are giv...</td>\n",
       "      <td>Most vaccines are given by an injection</td>\n",
       "      <td>the author</td>\n",
       "      <td>author</td>\n",
       "      <td>False</td>\n",
       "      <td>inter-sentence</td>\n",
       "      <td>neutral</td>\n",
       "      <td>uncertain</td>\n",
       "      <td>0.967919</td>\n",
       "      <td>0.929543</td>\n",
       "      <td>neutral,contradiction,entailment</td>\n",
       "      <td>0.9679,0.0321,0.0</td>\n",
       "      <td>uncertain,disagree,agree,partially_agree</td>\n",
       "      <td>0.9679,0.0321,0.0,0.0</td>\n",
       "      <td>en-wikipedia-org_20170706T122510_204</td>\n",
       "      <td>nytimes-com_20161229T124138_15</td>\n",
       "    </tr>\n",
       "    <tr>\n",
       "      <th>4</th>\n",
       "      <td>24647_source0</td>\n",
       "      <td>4478</td>\n",
       "      <td>Decavac [ PDF – 276 KB ] : FDA approved this v...</td>\n",
       "      <td>the author believes that Jenner ’s vaccine gua...</td>\n",
       "      <td>Jenner ’s vaccine guard against smallpox</td>\n",
       "      <td>the author</td>\n",
       "      <td>author</td>\n",
       "      <td>False</td>\n",
       "      <td>inter-sentence</td>\n",
       "      <td>neutral</td>\n",
       "      <td>uncertain</td>\n",
       "      <td>0.967919</td>\n",
       "      <td>0.928990</td>\n",
       "      <td>neutral,contradiction,entailment</td>\n",
       "      <td>0.9679,0.0197,0.0124</td>\n",
       "      <td>uncertain,disagree,agree,partially_agree</td>\n",
       "      <td>0.9679,0.0197,0.0124,0.0</td>\n",
       "      <td>cdc-gov_20170618T093430_27</td>\n",
       "      <td>International-Medical-Council-on-Vaccination_2...</td>\n",
       "    </tr>\n",
       "  </tbody>\n",
       "</table>\n",
       "</div>"
      ],
      "text/plain": [
       "         unit_id  pair_id                                            premise  \\\n",
       "0  24644_source0     4173  While in some cases there has been no definiti...   \n",
       "1  24644_source1     4173  While in some cases there has been no definiti...   \n",
       "2  24645_source0     3780       The MMR vaccine is given as two injections .   \n",
       "3  24646_source0     2712  Prophylactic vaccines are potent activators of...   \n",
       "4  24647_source0     4478  Decavac [ PDF – 276 KB ] : FDA approved this v...   \n",
       "\n",
       "                                          hypothesis  \\\n",
       "0  the author believes that you are/were delaying...   \n",
       "1  doctors believe that you are/were delaying vac...   \n",
       "2  the author believes that the vaccines are give...   \n",
       "3  the author believes that most vaccines are giv...   \n",
       "4  the author believes that Jenner ’s vaccine gua...   \n",
       "\n",
       "                                  statement source_text        source_type  \\\n",
       "0         you are/were delaying vaccination  the author             author   \n",
       "1         you are/were delaying vaccination     doctors  additional_source   \n",
       "2       the vaccines are given as two doses  the author             author   \n",
       "3   Most vaccines are given by an injection  the author             author   \n",
       "4  Jenner ’s vaccine guard against smallpox  the author             author   \n",
       "\n",
       "   additional_sources        relation       label original_label       uas  \\\n",
       "0                True  inter-sentence     neutral      uncertain  0.603905   \n",
       "1                True  inter-sentence  entailment          agree  0.607952   \n",
       "2               False  inter-sentence  entailment          agree  0.858770   \n",
       "3               False  inter-sentence     neutral      uncertain  0.967919   \n",
       "4               False  inter-sentence     neutral      uncertain  0.967919   \n",
       "\n",
       "        uqs                            labels                scores  \\\n",
       "0  0.315623  neutral,entailment,contradiction  0.6039,0.3764,0.0197   \n",
       "1  0.372631  entailment,neutral,contradiction   0.608,0.3723,0.0197   \n",
       "2  0.724804  entailment,neutral,contradiction     0.8588,0.1412,0.0   \n",
       "3  0.929543  neutral,contradiction,entailment     0.9679,0.0321,0.0   \n",
       "4  0.928990  neutral,contradiction,entailment  0.9679,0.0197,0.0124   \n",
       "\n",
       "                            original_labels              original_scores  \\\n",
       "0  uncertain,agree,partially_agree,disagree  0.4922,0.3764,0.1117,0.0197   \n",
       "1  agree,uncertain,partially_agree,disagree   0.608,0.2482,0.1241,0.0197   \n",
       "2  agree,partially_agree,disagree,uncertain        0.8588,0.1412,0.0,0.0   \n",
       "3  uncertain,disagree,agree,partially_agree        0.9679,0.0321,0.0,0.0   \n",
       "4  uncertain,disagree,agree,partially_agree     0.9679,0.0197,0.0124,0.0   \n",
       "\n",
       "                        premise_sent_id  \\\n",
       "0       Whattoexpect_20161206T224915_44   \n",
       "1       Whattoexpect_20161206T224915_44   \n",
       "2             nhs-uk_20161127T090556_44   \n",
       "3  en-wikipedia-org_20170706T122510_204   \n",
       "4            cdc-gov_20170618T093430_27   \n",
       "\n",
       "                                 hypothesis_sent_ids  \n",
       "0                        Fox-News_20161029T114432_73  \n",
       "1                        Fox-News_20161029T114432_73  \n",
       "2                en-wikipedia-org_20170519T045515_72  \n",
       "3                     nytimes-com_20161229T124138_15  \n",
       "4  International-Medical-Council-on-Vaccination_2...  "
      ]
     },
     "execution_count": 2,
     "metadata": {},
     "output_type": "execute_result"
    }
   ],
   "source": [
    "panli = pd.read_csv(\"../data/panli.csv\")\n",
    "panli.head()"
   ]
  },
  {
   "cell_type": "code",
   "execution_count": 3,
   "id": "f9789146-3e5f-43c7-a9bc-25013980c47a",
   "metadata": {},
   "outputs": [
    {
     "data": {
      "text/plain": [
       "7463"
      ]
     },
     "execution_count": 3,
     "metadata": {},
     "output_type": "execute_result"
    }
   ],
   "source": [
    "panli.unit_id.nunique()"
   ]
  },
  {
   "cell_type": "code",
   "execution_count": 4,
   "id": "fc18660e-236c-4a06-a103-978c4d512d50",
   "metadata": {},
   "outputs": [
    {
     "data": {
      "text/plain": [
       "source_type\n",
       "author               6105\n",
       "additional_source    1358\n",
       "Name: count, dtype: int64"
      ]
     },
     "execution_count": 4,
     "metadata": {},
     "output_type": "execute_result"
    }
   ],
   "source": [
    "panli[\"source_type\"].value_counts()"
   ]
  },
  {
   "cell_type": "code",
   "execution_count": 5,
   "id": "80df3d47-18ac-45bc-9b7a-c5ca8b3f725f",
   "metadata": {},
   "outputs": [
    {
     "data": {
      "text/plain": [
       "6105"
      ]
     },
     "execution_count": 5,
     "metadata": {},
     "output_type": "execute_result"
    }
   ],
   "source": [
    "panli[\"pair_id\"].nunique()"
   ]
  },
  {
   "cell_type": "code",
   "execution_count": 6,
   "id": "ff605a58-2010-4ba5-8011-8e88ae6ce500",
   "metadata": {},
   "outputs": [
    {
     "data": {
      "text/plain": [
       "relation\n",
       "inter-sentence    4892\n",
       "intra-sentence    1213\n",
       "Name: count, dtype: int64"
      ]
     },
     "execution_count": 6,
     "metadata": {},
     "output_type": "execute_result"
    }
   ],
   "source": [
    "panli.drop_duplicates(\"pair_id\")[\"relation\"].value_counts()"
   ]
  },
  {
   "cell_type": "markdown",
   "id": "ec27c6c6-21f9-48b4-9eec-55a02ccc55e0",
   "metadata": {},
   "source": [
    "# Crowd annotations (Prolific)"
   ]
  },
  {
   "cell_type": "code",
   "execution_count": 7,
   "id": "fca2adaf-6aae-4467-835f-d3bde99b3927",
   "metadata": {},
   "outputs": [
    {
     "data": {
      "text/html": [
       "<div>\n",
       "<style scoped>\n",
       "    .dataframe tbody tr th:only-of-type {\n",
       "        vertical-align: middle;\n",
       "    }\n",
       "\n",
       "    .dataframe tbody tr th {\n",
       "        vertical-align: top;\n",
       "    }\n",
       "\n",
       "    .dataframe thead th {\n",
       "        text-align: right;\n",
       "    }\n",
       "</style>\n",
       "<table border=\"1\" class=\"dataframe\">\n",
       "  <thead>\n",
       "    <tr style=\"text-align: right;\">\n",
       "      <th></th>\n",
       "      <th>worker_id</th>\n",
       "      <th>session_id</th>\n",
       "      <th>batch_id</th>\n",
       "      <th>list_id</th>\n",
       "      <th>pair_id</th>\n",
       "      <th>question_id</th>\n",
       "      <th>judgment_id</th>\n",
       "      <th>sent_id</th>\n",
       "      <th>started_time</th>\n",
       "      <th>submitted_time</th>\n",
       "      <th>...</th>\n",
       "      <th>sentence</th>\n",
       "      <th>sentence_statement</th>\n",
       "      <th>statement</th>\n",
       "      <th>sim</th>\n",
       "      <th>source_index</th>\n",
       "      <th>source_text</th>\n",
       "      <th>answer_value</th>\n",
       "      <th>true_answer</th>\n",
       "      <th>status</th>\n",
       "      <th>statement_sent_ids</th>\n",
       "    </tr>\n",
       "  </thead>\n",
       "  <tbody>\n",
       "    <tr>\n",
       "      <th>0</th>\n",
       "      <td>5838532eaac091000137f09e</td>\n",
       "      <td>5f5deca7c810f60303caafbe</td>\n",
       "      <td>9</td>\n",
       "      <td>83</td>\n",
       "      <td>3115</td>\n",
       "      <td>28571_source0</td>\n",
       "      <td>243653_source0</td>\n",
       "      <td>NBC-News_20170816T081550_7</td>\n",
       "      <td>13-Sep-2020 12:08:18</td>\n",
       "      <td>13-Sep-2020 12:08:18</td>\n",
       "      <td>...</td>\n",
       "      <td>And they ’ve performed a natural experiment : ...</td>\n",
       "      <td>the measles vaccine is/was based on this propa...</td>\n",
       "      <td>Rubella can be prevented with vaccination</td>\n",
       "      <td>0.576193</td>\n",
       "      <td>0</td>\n",
       "      <td>John (the author)</td>\n",
       "      <td>disagree</td>\n",
       "      <td>NaN</td>\n",
       "      <td>APPROVED</td>\n",
       "      <td>vaccines-gov_20161018T021014_4</td>\n",
       "    </tr>\n",
       "    <tr>\n",
       "      <th>1</th>\n",
       "      <td>5838532eaac091000137f09e</td>\n",
       "      <td>5f5deca7c810f60303caafbe</td>\n",
       "      <td>9</td>\n",
       "      <td>83</td>\n",
       "      <td>3115</td>\n",
       "      <td>28571_source1</td>\n",
       "      <td>243653_source1</td>\n",
       "      <td>NBC-News_20170816T081550_7</td>\n",
       "      <td>13-Sep-2020 12:08:18</td>\n",
       "      <td>13-Sep-2020 12:08:18</td>\n",
       "      <td>...</td>\n",
       "      <td>And they ’ve performed a natural experiment : ...</td>\n",
       "      <td>the measles vaccine is/was based on this propa...</td>\n",
       "      <td>Rubella can be prevented with vaccination</td>\n",
       "      <td>0.576193</td>\n",
       "      <td>1</td>\n",
       "      <td>Johnson</td>\n",
       "      <td>uncertain</td>\n",
       "      <td>NaN</td>\n",
       "      <td>APPROVED</td>\n",
       "      <td>vaccines-gov_20161018T021014_4</td>\n",
       "    </tr>\n",
       "    <tr>\n",
       "      <th>2</th>\n",
       "      <td>5898b6e256357700011c2c6b</td>\n",
       "      <td>5f5e8ada4cddcc73212bb9e8</td>\n",
       "      <td>9</td>\n",
       "      <td>83</td>\n",
       "      <td>3115</td>\n",
       "      <td>28571_source0</td>\n",
       "      <td>249576_source0</td>\n",
       "      <td>NBC-News_20170816T081550_7</td>\n",
       "      <td>13-Sep-2020 23:19:12</td>\n",
       "      <td>13-Sep-2020 23:19:12</td>\n",
       "      <td>...</td>\n",
       "      <td>And they ’ve performed a natural experiment : ...</td>\n",
       "      <td>the measles vaccine is/was based on this propa...</td>\n",
       "      <td>Rubella can be prevented with vaccination</td>\n",
       "      <td>0.576193</td>\n",
       "      <td>0</td>\n",
       "      <td>John (the author)</td>\n",
       "      <td>partially_agree</td>\n",
       "      <td>NaN</td>\n",
       "      <td>APPROVED</td>\n",
       "      <td>vaccines-gov_20161018T021014_4</td>\n",
       "    </tr>\n",
       "    <tr>\n",
       "      <th>3</th>\n",
       "      <td>5898b6e256357700011c2c6b</td>\n",
       "      <td>5f5e8ada4cddcc73212bb9e8</td>\n",
       "      <td>9</td>\n",
       "      <td>83</td>\n",
       "      <td>3115</td>\n",
       "      <td>28571_source1</td>\n",
       "      <td>249576_source1</td>\n",
       "      <td>NBC-News_20170816T081550_7</td>\n",
       "      <td>13-Sep-2020 23:19:12</td>\n",
       "      <td>13-Sep-2020 23:19:12</td>\n",
       "      <td>...</td>\n",
       "      <td>And they ’ve performed a natural experiment : ...</td>\n",
       "      <td>the measles vaccine is/was based on this propa...</td>\n",
       "      <td>Rubella can be prevented with vaccination</td>\n",
       "      <td>0.576193</td>\n",
       "      <td>1</td>\n",
       "      <td>Johnson</td>\n",
       "      <td>agree</td>\n",
       "      <td>NaN</td>\n",
       "      <td>APPROVED</td>\n",
       "      <td>vaccines-gov_20161018T021014_4</td>\n",
       "    </tr>\n",
       "    <tr>\n",
       "      <th>4</th>\n",
       "      <td>5b0d9494e9270900013bd5a5</td>\n",
       "      <td>5f5dec01b2a8ef6474a4c1e1</td>\n",
       "      <td>9</td>\n",
       "      <td>83</td>\n",
       "      <td>3115</td>\n",
       "      <td>28571_source0</td>\n",
       "      <td>242363_source0</td>\n",
       "      <td>NBC-News_20170816T081550_7</td>\n",
       "      <td>13-Sep-2020 12:04:26</td>\n",
       "      <td>13-Sep-2020 12:04:26</td>\n",
       "      <td>...</td>\n",
       "      <td>And they ’ve performed a natural experiment : ...</td>\n",
       "      <td>the measles vaccine is/was based on this propa...</td>\n",
       "      <td>Rubella can be prevented with vaccination</td>\n",
       "      <td>0.576193</td>\n",
       "      <td>0</td>\n",
       "      <td>John (the author)</td>\n",
       "      <td>uncertain</td>\n",
       "      <td>NaN</td>\n",
       "      <td>APPROVED</td>\n",
       "      <td>vaccines-gov_20161018T021014_4</td>\n",
       "    </tr>\n",
       "  </tbody>\n",
       "</table>\n",
       "<p>5 rows × 23 columns</p>\n",
       "</div>"
      ],
      "text/plain": [
       "                  worker_id                session_id  batch_id  list_id  \\\n",
       "0  5838532eaac091000137f09e  5f5deca7c810f60303caafbe         9       83   \n",
       "1  5838532eaac091000137f09e  5f5deca7c810f60303caafbe         9       83   \n",
       "2  5898b6e256357700011c2c6b  5f5e8ada4cddcc73212bb9e8         9       83   \n",
       "3  5898b6e256357700011c2c6b  5f5e8ada4cddcc73212bb9e8         9       83   \n",
       "4  5b0d9494e9270900013bd5a5  5f5dec01b2a8ef6474a4c1e1         9       83   \n",
       "\n",
       "   pair_id    question_id     judgment_id                     sent_id  \\\n",
       "0     3115  28571_source0  243653_source0  NBC-News_20170816T081550_7   \n",
       "1     3115  28571_source1  243653_source1  NBC-News_20170816T081550_7   \n",
       "2     3115  28571_source0  249576_source0  NBC-News_20170816T081550_7   \n",
       "3     3115  28571_source1  249576_source1  NBC-News_20170816T081550_7   \n",
       "4     3115  28571_source0  242363_source0  NBC-News_20170816T081550_7   \n",
       "\n",
       "           started_time        submitted_time  ...  \\\n",
       "0  13-Sep-2020 12:08:18  13-Sep-2020 12:08:18  ...   \n",
       "1  13-Sep-2020 12:08:18  13-Sep-2020 12:08:18  ...   \n",
       "2  13-Sep-2020 23:19:12  13-Sep-2020 23:19:12  ...   \n",
       "3  13-Sep-2020 23:19:12  13-Sep-2020 23:19:12  ...   \n",
       "4  13-Sep-2020 12:04:26  13-Sep-2020 12:04:26  ...   \n",
       "\n",
       "                                            sentence  \\\n",
       "0  And they ’ve performed a natural experiment : ...   \n",
       "1  And they ’ve performed a natural experiment : ...   \n",
       "2  And they ’ve performed a natural experiment : ...   \n",
       "3  And they ’ve performed a natural experiment : ...   \n",
       "4  And they ’ve performed a natural experiment : ...   \n",
       "\n",
       "                                  sentence_statement  \\\n",
       "0  the measles vaccine is/was based on this propa...   \n",
       "1  the measles vaccine is/was based on this propa...   \n",
       "2  the measles vaccine is/was based on this propa...   \n",
       "3  the measles vaccine is/was based on this propa...   \n",
       "4  the measles vaccine is/was based on this propa...   \n",
       "\n",
       "                                   statement       sim source_index  \\\n",
       "0  Rubella can be prevented with vaccination  0.576193            0   \n",
       "1  Rubella can be prevented with vaccination  0.576193            1   \n",
       "2  Rubella can be prevented with vaccination  0.576193            0   \n",
       "3  Rubella can be prevented with vaccination  0.576193            1   \n",
       "4  Rubella can be prevented with vaccination  0.576193            0   \n",
       "\n",
       "         source_text     answer_value  true_answer    status  \\\n",
       "0  John (the author)         disagree          NaN  APPROVED   \n",
       "1            Johnson        uncertain          NaN  APPROVED   \n",
       "2  John (the author)  partially_agree          NaN  APPROVED   \n",
       "3            Johnson            agree          NaN  APPROVED   \n",
       "4  John (the author)        uncertain          NaN  APPROVED   \n",
       "\n",
       "               statement_sent_ids  \n",
       "0  vaccines-gov_20161018T021014_4  \n",
       "1  vaccines-gov_20161018T021014_4  \n",
       "2  vaccines-gov_20161018T021014_4  \n",
       "3  vaccines-gov_20161018T021014_4  \n",
       "4  vaccines-gov_20161018T021014_4  \n",
       "\n",
       "[5 rows x 23 columns]"
      ]
     },
     "execution_count": 7,
     "metadata": {},
     "output_type": "execute_result"
    }
   ],
   "source": [
    "prolific = pd.read_csv(\"../data/prolific_results.csv\")\n",
    "prolific.head()"
   ]
  },
  {
   "cell_type": "code",
   "execution_count": 8,
   "id": "7741cdf9-f911-4997-b2aa-7897cfb87154",
   "metadata": {},
   "outputs": [
    {
     "data": {
      "text/plain": [
       "74630"
      ]
     },
     "execution_count": 8,
     "metadata": {},
     "output_type": "execute_result"
    }
   ],
   "source": [
    "prolific[\"judgment_id\"].nunique()"
   ]
  },
  {
   "cell_type": "code",
   "execution_count": 9,
   "id": "26758b92-0ef7-4172-bbef-d3e2841c9344",
   "metadata": {},
   "outputs": [
    {
     "data": {
      "text/plain": [
       "1988"
      ]
     },
     "execution_count": 9,
     "metadata": {},
     "output_type": "execute_result"
    }
   ],
   "source": [
    "prolific[\"worker_id\"].nunique()"
   ]
  },
  {
   "cell_type": "code",
   "execution_count": 10,
   "id": "10b37a06-ce4f-4364-8203-84beaf0f5aab",
   "metadata": {},
   "outputs": [
    {
     "data": {
      "text/plain": [
       "answer_value\n",
       "uncertain          28489\n",
       "agree              22098\n",
       "disagree           12969\n",
       "partially_agree    11073\n",
       "Name: count, dtype: int64"
      ]
     },
     "execution_count": 10,
     "metadata": {},
     "output_type": "execute_result"
    }
   ],
   "source": [
    "prolific[\"answer_value\"].value_counts()"
   ]
  },
  {
   "cell_type": "code",
   "execution_count": null,
   "id": "6c250591-8ced-4c6a-a2be-a4a683df86ec",
   "metadata": {},
   "outputs": [],
   "source": []
  }
 ],
 "metadata": {
  "kernelspec": {
   "display_name": "Python 3 (ipykernel)",
   "language": "python",
   "name": "python3"
  },
  "language_info": {
   "codemirror_mode": {
    "name": "ipython",
    "version": 3
   },
   "file_extension": ".py",
   "mimetype": "text/x-python",
   "name": "python",
   "nbconvert_exporter": "python",
   "pygments_lexer": "ipython3",
   "version": "3.11.7"
  }
 },
 "nbformat": 4,
 "nbformat_minor": 5
}
